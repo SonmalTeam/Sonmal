{
  "nbformat": 4,
  "nbformat_minor": 0,
  "metadata": {
    "colab": {
      "name": "video_alphapose_tojson.ipynb",
      "provenance": [],
      "collapsed_sections": [],
      "machine_shape": "hm",
      "include_colab_link": true
    },
    "kernelspec": {
      "display_name": "Python 3",
      "name": "python3"
    },
    "language_info": {
      "name": "python"
    },
    "accelerator": "GPU"
  },
  "cells": [
    {
      "cell_type": "markdown",
      "metadata": {
        "id": "view-in-github",
        "colab_type": "text"
      },
      "source": [
        "<a href=\"https://colab.research.google.com/github/winston1214/Sign-Langugage-project/blob/master/video_alphapose_tojson.ipynb\" target=\"_parent\"><img src=\"https://colab.research.google.com/assets/colab-badge.svg\" alt=\"Open In Colab\"/></a>"
      ]
    },
    {
      "cell_type": "code",
      "metadata": {
        "colab": {
          "base_uri": "https://localhost:8080/"
        },
        "id": "_lOojmewmXyz",
        "outputId": "a19d1ffe-32fc-4161-9e32-d90046e2fb3e"
      },
      "source": [
        "from google.colab import drive\n",
        "drive.mount('/content/drive')"
      ],
      "execution_count": null,
      "outputs": [
        {
          "output_type": "stream",
          "name": "stdout",
          "text": [
            "Mounted at /content/drive\n"
          ]
        }
      ]
    },
    {
      "cell_type": "code",
      "metadata": {
        "colab": {
          "base_uri": "https://localhost:8080/"
        },
        "id": "oRxqqCyOmZB9",
        "outputId": "241340a4-a3f2-43f3-cb78-12194d0f6202"
      },
      "source": [
        "cd '/content/drive/MyDrive/BOAZ_수어프로젝트/AlphaPose/AlphaPose'"
      ],
      "execution_count": null,
      "outputs": [
        {
          "output_type": "stream",
          "name": "stdout",
          "text": [
            "/content/drive/.shortcut-targets-by-id/1-cjFAJ4V8fljt8cVEey--yIEu_N0ZZt_/BOAZ_수어프로젝트/AlphaPose/AlphaPose\n"
          ]
        }
      ]
    },
    {
      "cell_type": "code",
      "metadata": {
        "colab": {
          "base_uri": "https://localhost:8080/"
        },
        "id": "Vb2w4JkJozhG",
        "outputId": "1e115dc2-4485-4b72-efcd-b8e6476e41d2"
      },
      "source": [
        "!ls"
      ],
      "execution_count": null,
      "outputs": [
        {
          "output_type": "stream",
          "name": "stdout",
          "text": [
            "alphapose\t    configs   examples\t\t README.md  setup.py\n",
            "alphapose.egg-info  detector  LICENSE\t\t scripts    trackers\n",
            "build\t\t    docs      pretrained_models  setup.cfg\n"
          ]
        }
      ]
    },
    {
      "cell_type": "code",
      "metadata": {
        "colab": {
          "base_uri": "https://localhost:8080/",
          "height": 1000
        },
        "id": "y2BXA6tKqF6z",
        "outputId": "a36b5750-97b2-40bc-a32c-499a36f2ae05"
      },
      "source": [
        "! pip install pyyaml==5.2\n",
        "! pip install scipy==1.1.0\n",
        "! pip install torch==1.2.0 torchvision==0.4.0\n",
        "! pip install pillow==6.2.2\n",
        "import torch\n",
        "print(torch.__version__)\n",
        "import yaml, scipy\n",
        "print(yaml.__version__)\n",
        "print(scipy.__version__)"
      ],
      "execution_count": null,
      "outputs": [
        {
          "output_type": "stream",
          "name": "stdout",
          "text": [
            "Collecting pyyaml==5.2\n",
            "  Downloading PyYAML-5.2.tar.gz (265 kB)\n",
            "\u001b[?25l\r\u001b[K     |█▎                              | 10 kB 23.1 MB/s eta 0:00:01\r\u001b[K     |██▌                             | 20 kB 23.5 MB/s eta 0:00:01\r\u001b[K     |███▊                            | 30 kB 18.6 MB/s eta 0:00:01\r\u001b[K     |█████                           | 40 kB 15.9 MB/s eta 0:00:01\r\u001b[K     |██████▏                         | 51 kB 5.6 MB/s eta 0:00:01\r\u001b[K     |███████▍                        | 61 kB 6.0 MB/s eta 0:00:01\r\u001b[K     |████████▋                       | 71 kB 5.5 MB/s eta 0:00:01\r\u001b[K     |█████████▉                      | 81 kB 6.2 MB/s eta 0:00:01\r\u001b[K     |███████████                     | 92 kB 6.5 MB/s eta 0:00:01\r\u001b[K     |████████████▎                   | 102 kB 5.3 MB/s eta 0:00:01\r\u001b[K     |█████████████▋                  | 112 kB 5.3 MB/s eta 0:00:01\r\u001b[K     |██████████████▉                 | 122 kB 5.3 MB/s eta 0:00:01\r\u001b[K     |████████████████                | 133 kB 5.3 MB/s eta 0:00:01\r\u001b[K     |█████████████████▎              | 143 kB 5.3 MB/s eta 0:00:01\r\u001b[K     |██████████████████▌             | 153 kB 5.3 MB/s eta 0:00:01\r\u001b[K     |███████████████████▊            | 163 kB 5.3 MB/s eta 0:00:01\r\u001b[K     |█████████████████████           | 174 kB 5.3 MB/s eta 0:00:01\r\u001b[K     |██████████████████████▏         | 184 kB 5.3 MB/s eta 0:00:01\r\u001b[K     |███████████████████████▍        | 194 kB 5.3 MB/s eta 0:00:01\r\u001b[K     |████████████████████████▋       | 204 kB 5.3 MB/s eta 0:00:01\r\u001b[K     |██████████████████████████      | 215 kB 5.3 MB/s eta 0:00:01\r\u001b[K     |███████████████████████████▏    | 225 kB 5.3 MB/s eta 0:00:01\r\u001b[K     |████████████████████████████▍   | 235 kB 5.3 MB/s eta 0:00:01\r\u001b[K     |█████████████████████████████▋  | 245 kB 5.3 MB/s eta 0:00:01\r\u001b[K     |██████████████████████████████▉ | 256 kB 5.3 MB/s eta 0:00:01\r\u001b[K     |████████████████████████████████| 265 kB 5.3 MB/s \n",
            "\u001b[?25hBuilding wheels for collected packages: pyyaml\n",
            "  Building wheel for pyyaml (setup.py) ... \u001b[?25l\u001b[?25hdone\n",
            "  Created wheel for pyyaml: filename=PyYAML-5.2-cp37-cp37m-linux_x86_64.whl size=44224 sha256=44e58f653144c5de6288e447c7306991d081c96bfc3b28369eb311fcff53f0c1\n",
            "  Stored in directory: /root/.cache/pip/wheels/c5/67/65/80b02387630c3794fc9bab68ca0de3dd87d639d65936026527\n",
            "Successfully built pyyaml\n",
            "Installing collected packages: pyyaml\n",
            "  Attempting uninstall: pyyaml\n",
            "    Found existing installation: PyYAML 3.13\n",
            "    Uninstalling PyYAML-3.13:\n",
            "      Successfully uninstalled PyYAML-3.13\n",
            "Successfully installed pyyaml-5.2\n",
            "Collecting scipy==1.1.0\n",
            "  Downloading scipy-1.1.0-cp37-cp37m-manylinux1_x86_64.whl (31.2 MB)\n",
            "\u001b[K     |████████████████████████████████| 31.2 MB 1.5 MB/s \n",
            "\u001b[?25hRequirement already satisfied: numpy>=1.8.2 in /usr/local/lib/python3.7/dist-packages (from scipy==1.1.0) (1.19.5)\n",
            "Installing collected packages: scipy\n",
            "  Attempting uninstall: scipy\n",
            "    Found existing installation: scipy 1.4.1\n",
            "    Uninstalling scipy-1.4.1:\n",
            "      Successfully uninstalled scipy-1.4.1\n",
            "\u001b[31mERROR: pip's dependency resolver does not currently take into account all the packages that are installed. This behaviour is the source of the following dependency conflicts.\n",
            "pymc3 3.11.4 requires scipy>=1.2.0, but you have scipy 1.1.0 which is incompatible.\n",
            "plotnine 0.6.0 requires scipy>=1.2.0, but you have scipy 1.1.0 which is incompatible.\n",
            "jax 0.2.25 requires scipy>=1.2.1, but you have scipy 1.1.0 which is incompatible.\n",
            "albumentations 0.1.12 requires imgaug<0.2.7,>=0.2.5, but you have imgaug 0.2.9 which is incompatible.\u001b[0m\n",
            "Successfully installed scipy-1.1.0\n",
            "Collecting torch==1.2.0\n",
            "  Downloading torch-1.2.0-cp37-cp37m-manylinux1_x86_64.whl (748.9 MB)\n",
            "\u001b[K     |████████████████████████████████| 748.9 MB 639 bytes/s \n",
            "\u001b[?25hCollecting torchvision==0.4.0\n",
            "  Downloading torchvision-0.4.0-cp37-cp37m-manylinux1_x86_64.whl (8.8 MB)\n",
            "\u001b[K     |████████████████████████████████| 8.8 MB 8.5 MB/s \n",
            "\u001b[?25hRequirement already satisfied: numpy in /usr/local/lib/python3.7/dist-packages (from torch==1.2.0) (1.19.5)\n",
            "Requirement already satisfied: pillow>=4.1.1 in /usr/local/lib/python3.7/dist-packages (from torchvision==0.4.0) (7.1.2)\n",
            "Requirement already satisfied: six in /usr/local/lib/python3.7/dist-packages (from torchvision==0.4.0) (1.15.0)\n",
            "Installing collected packages: torch, torchvision\n",
            "  Attempting uninstall: torch\n",
            "    Found existing installation: torch 1.10.0+cu111\n",
            "    Uninstalling torch-1.10.0+cu111:\n",
            "      Successfully uninstalled torch-1.10.0+cu111\n",
            "  Attempting uninstall: torchvision\n",
            "    Found existing installation: torchvision 0.11.1+cu111\n",
            "    Uninstalling torchvision-0.11.1+cu111:\n",
            "      Successfully uninstalled torchvision-0.11.1+cu111\n",
            "\u001b[31mERROR: pip's dependency resolver does not currently take into account all the packages that are installed. This behaviour is the source of the following dependency conflicts.\n",
            "torchtext 0.11.0 requires torch==1.10.0, but you have torch 1.2.0 which is incompatible.\n",
            "torchaudio 0.10.0+cu111 requires torch==1.10.0, but you have torch 1.2.0 which is incompatible.\u001b[0m\n",
            "Successfully installed torch-1.2.0 torchvision-0.4.0\n",
            "Collecting pillow==6.2.2\n",
            "  Downloading Pillow-6.2.2-cp37-cp37m-manylinux1_x86_64.whl (2.1 MB)\n",
            "\u001b[K     |████████████████████████████████| 2.1 MB 5.6 MB/s \n",
            "\u001b[?25hInstalling collected packages: pillow\n",
            "  Attempting uninstall: pillow\n",
            "    Found existing installation: Pillow 7.1.2\n",
            "    Uninstalling Pillow-7.1.2:\n",
            "      Successfully uninstalled Pillow-7.1.2\n",
            "\u001b[31mERROR: pip's dependency resolver does not currently take into account all the packages that are installed. This behaviour is the source of the following dependency conflicts.\n",
            "bokeh 2.3.3 requires pillow>=7.1.0, but you have pillow 6.2.2 which is incompatible.\n",
            "albumentations 0.1.12 requires imgaug<0.2.7,>=0.2.5, but you have imgaug 0.2.9 which is incompatible.\u001b[0m\n",
            "Successfully installed pillow-6.2.2\n"
          ]
        },
        {
          "output_type": "display_data",
          "data": {
            "application/vnd.colab-display-data+json": {
              "pip_warning": {
                "packages": [
                  "PIL"
                ]
              }
            }
          },
          "metadata": {}
        },
        {
          "output_type": "stream",
          "name": "stdout",
          "text": [
            "1.2.0\n",
            "5.2\n",
            "1.1.0\n"
          ]
        }
      ]
    },
    {
      "cell_type": "code",
      "source": [
        "import torch\n",
        "torch.__version__"
      ],
      "metadata": {
        "colab": {
          "base_uri": "https://localhost:8080/",
          "height": 35
        },
        "id": "iD9I083Jdwld",
        "outputId": "3ff029bb-bb8d-450c-c7cd-bf0969daba2e"
      },
      "execution_count": null,
      "outputs": [
        {
          "output_type": "execute_result",
          "data": {
            "application/vnd.google.colaboratory.intrinsic+json": {
              "type": "string"
            },
            "text/plain": [
              "'1.2.0'"
            ]
          },
          "metadata": {},
          "execution_count": 5
        }
      ]
    },
    {
      "cell_type": "code",
      "metadata": {
        "colab": {
          "base_uri": "https://localhost:8080/"
        },
        "id": "3Apxvk4LqNpM",
        "outputId": "ec6a6f5d-9097-4474-a2c1-ec615b6fc5dc"
      },
      "source": [
        "!python -m pip install cython\n",
        "!sudo apt-get install libyaml-dev"
      ],
      "execution_count": null,
      "outputs": [
        {
          "output_type": "stream",
          "name": "stdout",
          "text": [
            "Requirement already satisfied: cython in /usr/local/lib/python3.7/dist-packages (0.29.24)\n",
            "Reading package lists... Done\n",
            "Building dependency tree       \n",
            "Reading state information... Done\n",
            "Suggested packages:\n",
            "  libyaml-doc\n",
            "The following NEW packages will be installed:\n",
            "  libyaml-dev\n",
            "0 upgraded, 1 newly installed, 0 to remove and 37 not upgraded.\n",
            "Need to get 55.7 kB of archives.\n",
            "After this operation, 246 kB of additional disk space will be used.\n",
            "Get:1 http://archive.ubuntu.com/ubuntu bionic/main amd64 libyaml-dev amd64 0.1.7-2ubuntu3 [55.7 kB]\n",
            "Fetched 55.7 kB in 1s (97.4 kB/s)\n",
            "debconf: unable to initialize frontend: Dialog\n",
            "debconf: (No usable dialog-like program is installed, so the dialog based frontend cannot be used. at /usr/share/perl5/Debconf/FrontEnd/Dialog.pm line 76, <> line 1.)\n",
            "debconf: falling back to frontend: Readline\n",
            "debconf: unable to initialize frontend: Readline\n",
            "debconf: (This frontend requires a controlling tty.)\n",
            "debconf: falling back to frontend: Teletype\n",
            "dpkg-preconfigure: unable to re-open stdin: \n",
            "Selecting previously unselected package libyaml-dev:amd64.\n",
            "(Reading database ... 155222 files and directories currently installed.)\n",
            "Preparing to unpack .../libyaml-dev_0.1.7-2ubuntu3_amd64.deb ...\n",
            "Unpacking libyaml-dev:amd64 (0.1.7-2ubuntu3) ...\n",
            "Setting up libyaml-dev:amd64 (0.1.7-2ubuntu3) ...\n"
          ]
        }
      ]
    },
    {
      "cell_type": "code",
      "metadata": {
        "colab": {
          "base_uri": "https://localhost:8080/"
        },
        "id": "laG2-aFpqQpr",
        "outputId": "58e5b0ac-4dc3-4985-c2f1-e0933ab44289"
      },
      "source": [
        "import os\n",
        "os.chdir('/content/drive/MyDrive/BOAZ_수어프로젝트/AlphaPose/Alphapose_dain/AlphaPose/AlphaPose')\n",
        "print(os.getcwd())\n",
        "! python setup.py build develop"
      ],
      "execution_count": null,
      "outputs": [
        {
          "output_type": "stream",
          "name": "stdout",
          "text": [
            "/content/drive/.shortcut-targets-by-id/1-cjFAJ4V8fljt8cVEey--yIEu_N0ZZt_/BOAZ_수어프로젝트/AlphaPose/Alphapose_dain/AlphaPose/AlphaPose\n",
            "running build\n",
            "running build_py\n",
            "copying alphapose/version.py -> build/lib.linux-x86_64-3.7/alphapose\n",
            "running build_ext\n",
            "running develop\n",
            "running egg_info\n",
            "writing alphapose.egg-info/PKG-INFO\n",
            "writing dependency_links to alphapose.egg-info/dependency_links.txt\n",
            "writing requirements to alphapose.egg-info/requires.txt\n",
            "writing top-level names to alphapose.egg-info/top_level.txt\n",
            "adding license file 'LICENSE'\n",
            "writing manifest file 'alphapose.egg-info/SOURCES.txt'\n",
            "running build_ext\n",
            "copying build/lib.linux-x86_64-3.7/detector/nms/soft_nms_cpu.cpython-37m-x86_64-linux-gnu.so -> detector/nms\n",
            "copying build/lib.linux-x86_64-3.7/detector/nms/nms_cpu.cpython-37m-x86_64-linux-gnu.so -> detector/nms\n",
            "copying build/lib.linux-x86_64-3.7/detector/nms/nms_cuda.cpython-37m-x86_64-linux-gnu.so -> detector/nms\n",
            "copying build/lib.linux-x86_64-3.7/alphapose/utils/roi_align/roi_align_cuda.cpython-37m-x86_64-linux-gnu.so -> alphapose/utils/roi_align\n",
            "copying build/lib.linux-x86_64-3.7/alphapose/models/layers/dcn/deform_conv_cuda.cpython-37m-x86_64-linux-gnu.so -> alphapose/models/layers/dcn\n",
            "copying build/lib.linux-x86_64-3.7/alphapose/models/layers/dcn/deform_pool_cuda.cpython-37m-x86_64-linux-gnu.so -> alphapose/models/layers/dcn\n",
            "Creating /usr/local/lib/python3.7/dist-packages/alphapose.egg-link (link to .)\n",
            "Adding alphapose 0.3.0+bcfbc99 to easy-install.pth file\n",
            "\n",
            "Installed /content/drive/.shortcut-targets-by-id/1-cjFAJ4V8fljt8cVEey--yIEu_N0ZZt_/BOAZ_수어프로젝트/AlphaPose/Alphapose_dain/AlphaPose/AlphaPose\n",
            "Processing dependencies for alphapose==0.3.0+bcfbc99\n",
            "Searching for pycocotools==2.0.0\n",
            "Reading https://pypi.tuna.tsinghua.edu.cn/simple/pycocotools/\n",
            "Downloading https://pypi.tuna.tsinghua.edu.cn/packages/96/84/9a07b1095fd8555ba3f3d519517c8743c2554a245f9476e5e39869f948d2/pycocotools-2.0.0.tar.gz#sha256=cbb8c2fbab80450a67ee9879c63b0bc8a69e58dd9a0153d55de404c0d383a94b\n",
            "Best match: pycocotools 2.0.0\n",
            "Processing pycocotools-2.0.0.tar.gz\n",
            "Writing /tmp/easy_install-xsq322nq/pycocotools-2.0.0/setup.cfg\n",
            "Running pycocotools-2.0.0/setup.py -q bdist_egg --dist-dir /tmp/easy_install-xsq322nq/pycocotools-2.0.0/egg-dist-tmp-uk9s8bre\n",
            "Compiling pycocotools/_mask.pyx because it depends on /usr/local/lib/python3.7/dist-packages/Cython/Includes/libc/string.pxd.\n",
            "[1/1] Cythonizing pycocotools/_mask.pyx\n",
            "/usr/local/lib/python3.7/dist-packages/Cython/Compiler/Main.py:369: FutureWarning: Cython directive 'language_level' not set, using 2 for now (Py2). This will change in a later release! File: /tmp/easy_install-xsq322nq/pycocotools-2.0.0/pycocotools/_mask.pyx\n",
            "  tree = Parsing.p_module(s, pxd, full_module_name)\n",
            "\u001b[01m\u001b[Kcommon/maskApi.c:\u001b[m\u001b[K In function ‘\u001b[01m\u001b[KrleDecode\u001b[m\u001b[K’:\n",
            "\u001b[01m\u001b[Kcommon/maskApi.c:46:7:\u001b[m\u001b[K \u001b[01;35m\u001b[Kwarning: \u001b[m\u001b[Kthis ‘\u001b[01m\u001b[Kfor\u001b[m\u001b[K’ clause does not guard... [\u001b[01;35m\u001b[K-Wmisleading-indentation\u001b[m\u001b[K]\n",
            "       \u001b[01;35m\u001b[Kfor\u001b[m\u001b[K( k=0; k<R[i].cnts[j]; k++ ) *(M++)=v; v=!v; }}\n",
            "       \u001b[01;35m\u001b[K^~~\u001b[m\u001b[K\n",
            "\u001b[01m\u001b[Kcommon/maskApi.c:46:49:\u001b[m\u001b[K \u001b[01;36m\u001b[Knote: \u001b[m\u001b[K...this statement, but the latter is misleadingly indented as if it were guarded by the ‘\u001b[01m\u001b[Kfor\u001b[m\u001b[K’\n",
            "       for( k=0; k<R[i].cnts[j]; k++ ) *(M++)=v; \u001b[01;36m\u001b[Kv\u001b[m\u001b[K=!v; }}\n",
            "                                                 \u001b[01;36m\u001b[K^\u001b[m\u001b[K\n",
            "\u001b[01m\u001b[Kcommon/maskApi.c:\u001b[m\u001b[K In function ‘\u001b[01m\u001b[KrleFrPoly\u001b[m\u001b[K’:\n",
            "\u001b[01m\u001b[Kcommon/maskApi.c:165:3:\u001b[m\u001b[K \u001b[01;35m\u001b[Kwarning: \u001b[m\u001b[Kthis ‘\u001b[01m\u001b[Kfor\u001b[m\u001b[K’ clause does not guard... [\u001b[01;35m\u001b[K-Wmisleading-indentation\u001b[m\u001b[K]\n",
            "   \u001b[01;35m\u001b[Kfor\u001b[m\u001b[K(j=0; j<k; j++) x[j]=(int)(scale*xy[j*2+0]+.5); x[k]=x[0];\n",
            "   \u001b[01;35m\u001b[K^~~\u001b[m\u001b[K\n",
            "\u001b[01m\u001b[Kcommon/maskApi.c:165:54:\u001b[m\u001b[K \u001b[01;36m\u001b[Knote: \u001b[m\u001b[K...this statement, but the latter is misleadingly indented as if it were guarded by the ‘\u001b[01m\u001b[Kfor\u001b[m\u001b[K’\n",
            "   for(j=0; j<k; j++) x[j]=(int)(scale*xy[j*2+0]+.5); \u001b[01;36m\u001b[Kx\u001b[m\u001b[K[k]=x[0];\n",
            "                                                      \u001b[01;36m\u001b[K^\u001b[m\u001b[K\n",
            "\u001b[01m\u001b[Kcommon/maskApi.c:166:3:\u001b[m\u001b[K \u001b[01;35m\u001b[Kwarning: \u001b[m\u001b[Kthis ‘\u001b[01m\u001b[Kfor\u001b[m\u001b[K’ clause does not guard... [\u001b[01;35m\u001b[K-Wmisleading-indentation\u001b[m\u001b[K]\n",
            "   \u001b[01;35m\u001b[Kfor\u001b[m\u001b[K(j=0; j<k; j++) y[j]=(int)(scale*xy[j*2+1]+.5); y[k]=y[0];\n",
            "   \u001b[01;35m\u001b[K^~~\u001b[m\u001b[K\n",
            "\u001b[01m\u001b[Kcommon/maskApi.c:166:54:\u001b[m\u001b[K \u001b[01;36m\u001b[Knote: \u001b[m\u001b[K...this statement, but the latter is misleadingly indented as if it were guarded by the ‘\u001b[01m\u001b[Kfor\u001b[m\u001b[K’\n",
            "   for(j=0; j<k; j++) y[j]=(int)(scale*xy[j*2+1]+.5); \u001b[01;36m\u001b[Ky\u001b[m\u001b[K[k]=y[0];\n",
            "                                                      \u001b[01;36m\u001b[K^\u001b[m\u001b[K\n",
            "\u001b[01m\u001b[Kcommon/maskApi.c:\u001b[m\u001b[K In function ‘\u001b[01m\u001b[KrleToString\u001b[m\u001b[K’:\n",
            "\u001b[01m\u001b[Kcommon/maskApi.c:211:7:\u001b[m\u001b[K \u001b[01;35m\u001b[Kwarning: \u001b[m\u001b[Kthis ‘\u001b[01m\u001b[Kif\u001b[m\u001b[K’ clause does not guard... [\u001b[01;35m\u001b[K-Wmisleading-indentation\u001b[m\u001b[K]\n",
            "       \u001b[01;35m\u001b[Kif\u001b[m\u001b[K(more) c |= 0x20; c+=48; s[p++]=c;\n",
            "       \u001b[01;35m\u001b[K^~\u001b[m\u001b[K\n",
            "\u001b[01m\u001b[Kcommon/maskApi.c:211:27:\u001b[m\u001b[K \u001b[01;36m\u001b[Knote: \u001b[m\u001b[K...this statement, but the latter is misleadingly indented as if it were guarded by the ‘\u001b[01m\u001b[Kif\u001b[m\u001b[K’\n",
            "       if(more) c |= 0x20; \u001b[01;36m\u001b[Kc\u001b[m\u001b[K+=48; s[p++]=c;\n",
            "                           \u001b[01;36m\u001b[K^\u001b[m\u001b[K\n",
            "\u001b[01m\u001b[Kcommon/maskApi.c:\u001b[m\u001b[K In function ‘\u001b[01m\u001b[KrleFrString\u001b[m\u001b[K’:\n",
            "\u001b[01m\u001b[Kcommon/maskApi.c:219:3:\u001b[m\u001b[K \u001b[01;35m\u001b[Kwarning: \u001b[m\u001b[Kthis ‘\u001b[01m\u001b[Kwhile\u001b[m\u001b[K’ clause does not guard... [\u001b[01;35m\u001b[K-Wmisleading-indentation\u001b[m\u001b[K]\n",
            "   \u001b[01;35m\u001b[Kwhile\u001b[m\u001b[K( s[m] ) m++; cnts=malloc(sizeof(uint)*m); m=0;\n",
            "   \u001b[01;35m\u001b[K^~~~~\u001b[m\u001b[K\n",
            "\u001b[01m\u001b[Kcommon/maskApi.c:219:22:\u001b[m\u001b[K \u001b[01;36m\u001b[Knote: \u001b[m\u001b[K...this statement, but the latter is misleadingly indented as if it were guarded by the ‘\u001b[01m\u001b[Kwhile\u001b[m\u001b[K’\n",
            "   while( s[m] ) m++; \u001b[01;36m\u001b[Kcnts\u001b[m\u001b[K=malloc(sizeof(uint)*m); m=0;\n",
            "                      \u001b[01;36m\u001b[K^~~~\u001b[m\u001b[K\n",
            "\u001b[01m\u001b[Kcommon/maskApi.c:227:5:\u001b[m\u001b[K \u001b[01;35m\u001b[Kwarning: \u001b[m\u001b[Kthis ‘\u001b[01m\u001b[Kif\u001b[m\u001b[K’ clause does not guard... [\u001b[01;35m\u001b[K-Wmisleading-indentation\u001b[m\u001b[K]\n",
            "     \u001b[01;35m\u001b[Kif\u001b[m\u001b[K(m>2) x+=(long) cnts[m-2]; cnts[m++]=(uint) x;\n",
            "     \u001b[01;35m\u001b[K^~\u001b[m\u001b[K\n",
            "\u001b[01m\u001b[Kcommon/maskApi.c:227:34:\u001b[m\u001b[K \u001b[01;36m\u001b[Knote: \u001b[m\u001b[K...this statement, but the latter is misleadingly indented as if it were guarded by the ‘\u001b[01m\u001b[Kif\u001b[m\u001b[K’\n",
            "     if(m>2) x+=(long) cnts[m-2]; \u001b[01;36m\u001b[Kcnts\u001b[m\u001b[K[m++]=(uint) x;\n",
            "                                  \u001b[01;36m\u001b[K^~~~\u001b[m\u001b[K\n",
            "zip_safe flag not set; analyzing archive contents...\n",
            "pycocotools.__pycache__._mask.cpython-37: module references __file__\n",
            "creating /usr/local/lib/python3.7/dist-packages/pycocotools-2.0.0-py3.7-linux-x86_64.egg\n",
            "Extracting pycocotools-2.0.0-py3.7-linux-x86_64.egg to /usr/local/lib/python3.7/dist-packages\n",
            "Adding pycocotools 2.0.0 to easy-install.pth file\n",
            "\n",
            "Installed /usr/local/lib/python3.7/dist-packages/pycocotools-2.0.0-py3.7-linux-x86_64.egg\n",
            "Searching for timm==0.1.20\n",
            "Reading https://pypi.tuna.tsinghua.edu.cn/simple/timm/\n",
            "Downloading https://pypi.tuna.tsinghua.edu.cn/packages/89/26/ba294669cc5cc4d09efd1964c8df752dc0955ac26f86bdeec582aed77d1d/timm-0.1.20-py3-none-any.whl#sha256=f63fca201f637dfdd169fb187b5c2d06b8e973d537d2517667a80e57ca1bae7a\n",
            "Best match: timm 0.1.20\n",
            "Processing timm-0.1.20-py3-none-any.whl\n",
            "Installing timm-0.1.20-py3-none-any.whl to /usr/local/lib/python3.7/dist-packages\n",
            "Adding timm 0.1.20 to easy-install.pth file\n",
            "\n",
            "Installed /usr/local/lib/python3.7/dist-packages/timm-0.1.20-py3.7.egg\n",
            "Searching for munkres\n",
            "Reading https://pypi.tuna.tsinghua.edu.cn/simple/munkres/\n",
            "Downloading https://pypi.tuna.tsinghua.edu.cn/packages/90/ab/0301c945a704218bc9435f0e3c88884f6b19ef234d8899fb47ce1ccfd0c9/munkres-1.1.4-py2.py3-none-any.whl#sha256=6b01867d4a8480d865aea2326e4b8f7c46431e9e55b4a2e32d989307d7bced2a\n",
            "Best match: munkres 1.1.4\n",
            "Processing munkres-1.1.4-py2.py3-none-any.whl\n",
            "Installing munkres-1.1.4-py2.py3-none-any.whl to /usr/local/lib/python3.7/dist-packages\n",
            "Adding munkres 1.1.4 to easy-install.pth file\n",
            "\n",
            "Installed /usr/local/lib/python3.7/dist-packages/munkres-1.1.4-py3.7.egg\n",
            "Searching for tensorboardx\n",
            "Reading https://pypi.tuna.tsinghua.edu.cn/simple/tensorboardx/\n",
            "Downloading https://pypi.tuna.tsinghua.edu.cn/packages/98/88/977b2f03fd0f8a2490fc7a1ad691d5e44cee5f1dc90c57078c5c168e2e70/tensorboardX-2.4.1-py2.py3-none-any.whl#sha256=209770034b87e99bfa36ecb471462c3bcce6544324b0c891958b65523348c277\n",
            "Best match: tensorboardX 2.4.1\n",
            "Processing tensorboardX-2.4.1-py2.py3-none-any.whl\n",
            "Installing tensorboardX-2.4.1-py2.py3-none-any.whl to /usr/local/lib/python3.7/dist-packages\n",
            "Adding tensorboardX 2.4.1 to easy-install.pth file\n",
            "\n",
            "Installed /usr/local/lib/python3.7/dist-packages/tensorboardX-2.4.1-py3.7.egg\n",
            "Searching for visdom\n",
            "Reading https://pypi.tuna.tsinghua.edu.cn/simple/visdom/\n",
            "Downloading https://pypi.tuna.tsinghua.edu.cn/packages/c9/75/e078f5a2e1df7e0d3044749089fc2823e62d029cc027ed8ae5d71fafcbdc/visdom-0.1.8.9.tar.gz#sha256=c73ad23723c24a48156899f78dd76bd4538eba3edf9120b6c65a9528fa677126\n",
            "Best match: visdom 0.1.8.9\n",
            "Processing visdom-0.1.8.9.tar.gz\n",
            "Writing /tmp/easy_install-sooz_2aj/visdom-0.1.8.9/setup.cfg\n",
            "Running visdom-0.1.8.9/setup.py -q bdist_egg --dist-dir /tmp/easy_install-sooz_2aj/visdom-0.1.8.9/egg-dist-tmp-v4911rjx\n",
            "warning: manifest_maker: MANIFEST.in, line 5: 'recursive-include' expects <dir> <pattern1> <pattern2> ...\n",
            "\n",
            "warning: no previously-included files matching '__pycache__' found under directory '*'\n",
            "warning: no previously-included files matching '*.py[co]' found under directory '*'\n",
            "creating /usr/local/lib/python3.7/dist-packages/visdom-0.1.8.9-py3.7.egg\n",
            "Extracting visdom-0.1.8.9-py3.7.egg to /usr/local/lib/python3.7/dist-packages\n",
            "Adding visdom 0.1.8.9 to easy-install.pth file\n",
            "Installing visdom script to /usr/local/bin\n",
            "\n",
            "Installed /usr/local/lib/python3.7/dist-packages/visdom-0.1.8.9-py3.7.egg\n",
            "Searching for terminaltables\n",
            "Reading https://pypi.tuna.tsinghua.edu.cn/simple/terminaltables/\n",
            "Downloading https://pypi.tuna.tsinghua.edu.cn/packages/c4/fb/ea621e0a19733e01fe4005d46087d383693c0f4a8f824b47d8d4122c87e0/terminaltables-3.1.10-py2.py3-none-any.whl#sha256=e4fdc4179c9e4aab5f674d80f09d76fa436b96fdc698a8505e0a36bf0804a874\n",
            "Best match: terminaltables 3.1.10\n",
            "Processing terminaltables-3.1.10-py2.py3-none-any.whl\n",
            "Installing terminaltables-3.1.10-py2.py3-none-any.whl to /usr/local/lib/python3.7/dist-packages\n",
            "Adding terminaltables 3.1.10 to easy-install.pth file\n",
            "\n",
            "Installed /usr/local/lib/python3.7/dist-packages/terminaltables-3.1.10-py3.7.egg\n",
            "Searching for websocket-client\n",
            "Reading https://pypi.tuna.tsinghua.edu.cn/simple/websocket-client/\n",
            "Downloading https://pypi.tuna.tsinghua.edu.cn/packages/88/03/cd5aa2c97356b7eee484a2b63fe850076ecb82fdeda82979a234b62a9a37/websocket_client-1.2.3-py3-none-any.whl#sha256=2eed4cc58e4d65613ed6114af2f380f7910ff416fc8c46947f6e76b6815f56c0\n",
            "Best match: websocket-client 1.2.3\n",
            "Processing websocket_client-1.2.3-py3-none-any.whl\n",
            "Installing websocket_client-1.2.3-py3-none-any.whl to /usr/local/lib/python3.7/dist-packages\n",
            "Adding websocket-client 1.2.3 to easy-install.pth file\n",
            "Installing wsdump script to /usr/local/bin\n",
            "\n",
            "Installed /usr/local/lib/python3.7/dist-packages/websocket_client-1.2.3-py3.7.egg\n",
            "Searching for torchfile\n",
            "Reading https://pypi.tuna.tsinghua.edu.cn/simple/torchfile/\n",
            "Downloading https://pypi.tuna.tsinghua.edu.cn/packages/91/af/5b305f86f2d218091af657ddb53f984ecbd9518ca9fe8ef4103a007252c9/torchfile-0.1.0.tar.gz#sha256=a53dfe134b737845a9f2cb24fe0585317874f965932cebdb0439d13c8da4136e\n",
            "Best match: torchfile 0.1.0\n",
            "Processing torchfile-0.1.0.tar.gz\n",
            "Writing /tmp/easy_install-_6jqa3j5/torchfile-0.1.0/setup.cfg\n",
            "Running torchfile-0.1.0/setup.py -q bdist_egg --dist-dir /tmp/easy_install-_6jqa3j5/torchfile-0.1.0/egg-dist-tmp-by2gbi2_\n",
            "/usr/local/lib/python3.7/dist-packages/setuptools/dist.py:700: UserWarning: Usage of dash-separated 'description-file' will not be supported in future versions. Please use the underscore name 'description_file' instead\n",
            "  % (opt, underscore_opt))\n",
            "zip_safe flag not set; analyzing archive contents...\n",
            "Moving torchfile-0.1.0-py3.7.egg to /usr/local/lib/python3.7/dist-packages\n",
            "Adding torchfile 0.1.0 to easy-install.pth file\n",
            "\n",
            "Installed /usr/local/lib/python3.7/dist-packages/torchfile-0.1.0-py3.7.egg\n",
            "Searching for jsonpatch\n",
            "Reading https://pypi.tuna.tsinghua.edu.cn/simple/jsonpatch/\n",
            "Downloading https://pypi.tuna.tsinghua.edu.cn/packages/a3/55/f7c93bae36d869292aedfbcbae8b091386194874f16390d680136edd2b28/jsonpatch-1.32-py2.py3-none-any.whl#sha256=26ac385719ac9f54df8a2f0827bb8253aa3ea8ab7b3368457bcdb8c14595a397\n",
            "Best match: jsonpatch 1.32\n",
            "Processing jsonpatch-1.32-py2.py3-none-any.whl\n",
            "Installing jsonpatch-1.32-py2.py3-none-any.whl to /usr/local/lib/python3.7/dist-packages\n",
            "Adding jsonpatch 1.32 to easy-install.pth file\n",
            "Installing jsondiff script to /usr/local/bin\n",
            "Installing jsonpatch script to /usr/local/bin\n",
            "\n",
            "Installed /usr/local/lib/python3.7/dist-packages/jsonpatch-1.32-py3.7.egg\n",
            "Searching for jsonpointer>=1.9\n",
            "Reading https://pypi.tuna.tsinghua.edu.cn/simple/jsonpointer/\n",
            "Downloading https://pypi.tuna.tsinghua.edu.cn/packages/fe/38/6d04fe1f9bc0b5769cd2bb35868c862b59edbd2efcdb296671c9c982ef0f/jsonpointer-2.2-py2.py3-none-any.whl#sha256=26d9a47a72d4dc3e3ae72c4c6cd432afd73c680164cd2540772eab53cb3823b6\n",
            "Best match: jsonpointer 2.2\n",
            "Processing jsonpointer-2.2-py2.py3-none-any.whl\n",
            "Installing jsonpointer-2.2-py2.py3-none-any.whl to /usr/local/lib/python3.7/dist-packages\n",
            "Adding jsonpointer 2.2 to easy-install.pth file\n",
            "Installing jsonpointer script to /usr/local/bin\n",
            "\n",
            "Installed /usr/local/lib/python3.7/dist-packages/jsonpointer-2.2-py3.7.egg\n",
            "Searching for natsort==5.5.0\n",
            "Best match: natsort 5.5.0\n",
            "Adding natsort 5.5.0 to easy-install.pth file\n",
            "Installing natsort script to /usr/local/bin\n",
            "\n",
            "Using /usr/local/lib/python3.7/dist-packages\n",
            "Searching for torchvision==0.4.0\n",
            "Best match: torchvision 0.4.0\n",
            "Adding torchvision 0.4.0 to easy-install.pth file\n",
            "\n",
            "Using /usr/local/lib/python3.7/dist-packages\n",
            "Searching for torch==1.2.0\n",
            "Best match: torch 1.2.0\n",
            "Adding torch 1.2.0 to easy-install.pth file\n",
            "Installing convert-caffe2-to-onnx script to /usr/local/bin\n",
            "Installing convert-onnx-to-caffe2 script to /usr/local/bin\n",
            "\n",
            "Using /usr/local/lib/python3.7/dist-packages\n",
            "Searching for PyYAML==5.2\n",
            "Best match: PyYAML 5.2\n",
            "Adding PyYAML 5.2 to easy-install.pth file\n",
            "\n",
            "Using /usr/local/lib/python3.7/dist-packages\n",
            "Searching for easydict==1.9\n",
            "Best match: easydict 1.9\n",
            "Adding easydict 1.9 to easy-install.pth file\n",
            "\n",
            "Using /usr/local/lib/python3.7/dist-packages\n",
            "Searching for tqdm==4.62.3\n",
            "Best match: tqdm 4.62.3\n",
            "Adding tqdm 4.62.3 to easy-install.pth file\n",
            "Installing tqdm script to /usr/local/bin\n",
            "\n",
            "Using /usr/local/lib/python3.7/dist-packages\n",
            "Searching for matplotlib==3.2.2\n",
            "Best match: matplotlib 3.2.2\n",
            "Adding matplotlib 3.2.2 to easy-install.pth file\n",
            "\n",
            "Using /usr/local/lib/python3.7/dist-packages\n",
            "Searching for opencv-python==4.1.2.30\n",
            "Best match: opencv-python 4.1.2.30\n",
            "Adding opencv-python 4.1.2.30 to easy-install.pth file\n",
            "\n",
            "Using /usr/local/lib/python3.7/dist-packages\n",
            "Searching for scipy==1.1.0\n",
            "Best match: scipy 1.1.0\n",
            "Adding scipy 1.1.0 to easy-install.pth file\n",
            "\n",
            "Using /usr/local/lib/python3.7/dist-packages\n",
            "Searching for six==1.15.0\n",
            "Best match: six 1.15.0\n",
            "Adding six 1.15.0 to easy-install.pth file\n",
            "\n",
            "Using /usr/local/lib/python3.7/dist-packages\n",
            "Searching for Pillow==6.2.2\n",
            "Best match: Pillow 6.2.2\n",
            "Adding Pillow 6.2.2 to easy-install.pth file\n",
            "\n",
            "Using /usr/local/lib/python3.7/dist-packages\n",
            "Searching for numpy==1.19.5\n",
            "Best match: numpy 1.19.5\n",
            "Adding numpy 1.19.5 to easy-install.pth file\n",
            "Installing f2py script to /usr/local/bin\n",
            "Installing f2py3 script to /usr/local/bin\n",
            "Installing f2py3.7 script to /usr/local/bin\n",
            "\n",
            "Using /usr/local/lib/python3.7/dist-packages\n",
            "Searching for protobuf==3.17.3\n",
            "Best match: protobuf 3.17.3\n",
            "Adding protobuf 3.17.3 to easy-install.pth file\n",
            "\n",
            "Using /usr/local/lib/python3.7/dist-packages\n",
            "Searching for pyzmq==22.3.0\n",
            "Best match: pyzmq 22.3.0\n",
            "Adding pyzmq 22.3.0 to easy-install.pth file\n",
            "\n",
            "Using /usr/local/lib/python3.7/dist-packages\n",
            "Searching for tornado==5.1.1\n",
            "Best match: tornado 5.1.1\n",
            "Adding tornado 5.1.1 to easy-install.pth file\n",
            "\n",
            "Using /usr/local/lib/python3.7/dist-packages\n",
            "Searching for requests==2.23.0\n",
            "Best match: requests 2.23.0\n",
            "Adding requests 2.23.0 to easy-install.pth file\n",
            "\n",
            "Using /usr/local/lib/python3.7/dist-packages\n",
            "Searching for cycler==0.11.0\n",
            "Best match: cycler 0.11.0\n",
            "Adding cycler 0.11.0 to easy-install.pth file\n",
            "\n",
            "Using /usr/local/lib/python3.7/dist-packages\n",
            "Searching for kiwisolver==1.3.2\n",
            "Best match: kiwisolver 1.3.2\n",
            "Adding kiwisolver 1.3.2 to easy-install.pth file\n",
            "\n",
            "Using /usr/local/lib/python3.7/dist-packages\n",
            "Searching for python-dateutil==2.8.2\n",
            "Best match: python-dateutil 2.8.2\n",
            "Adding python-dateutil 2.8.2 to easy-install.pth file\n",
            "\n",
            "Using /usr/local/lib/python3.7/dist-packages\n",
            "Searching for pyparsing==3.0.6\n",
            "Best match: pyparsing 3.0.6\n",
            "Adding pyparsing 3.0.6 to easy-install.pth file\n",
            "\n",
            "Using /usr/local/lib/python3.7/dist-packages\n",
            "Searching for chardet==3.0.4\n",
            "Best match: chardet 3.0.4\n",
            "Adding chardet 3.0.4 to easy-install.pth file\n",
            "Installing chardetect script to /usr/local/bin\n",
            "\n",
            "Using /usr/local/lib/python3.7/dist-packages\n",
            "Searching for idna==2.10\n",
            "Best match: idna 2.10\n",
            "Adding idna 2.10 to easy-install.pth file\n",
            "\n",
            "Using /usr/local/lib/python3.7/dist-packages\n",
            "Searching for certifi==2021.10.8\n",
            "Best match: certifi 2021.10.8\n",
            "Adding certifi 2021.10.8 to easy-install.pth file\n",
            "\n",
            "Using /usr/local/lib/python3.7/dist-packages\n",
            "Searching for urllib3==1.24.3\n",
            "Best match: urllib3 1.24.3\n",
            "Adding urllib3 1.24.3 to easy-install.pth file\n",
            "\n",
            "Using /usr/local/lib/python3.7/dist-packages\n",
            "Finished processing dependencies for alphapose==0.3.0+bcfbc99\n",
            "\n",
            "Install `cython_bbox`...\n",
            "Collecting git+https://github.com/yanfengliu/cython_bbox.git\n",
            "  Cloning https://github.com/yanfengliu/cython_bbox.git to /tmp/pip-req-build-ijadt6uf\n",
            "  Running command git clone -q https://github.com/yanfengliu/cython_bbox.git /tmp/pip-req-build-ijadt6uf\n",
            "Building wheels for collected packages: cython-bbox\n",
            "  Building wheel for cython-bbox (setup.py) ... \u001b[?25l\u001b[?25hdone\n",
            "  Created wheel for cython-bbox: filename=cython_bbox-0.1.3-cp37-cp37m-linux_x86_64.whl size=58997 sha256=5ed5f6097c644d9e6d3cea645834c0c14e8185370d025c362857dacc48024b39\n",
            "  Stored in directory: /tmp/pip-ephem-wheel-cache-2_3apmnv/wheels/f1/26/0c/3a5085741b3e3200eea4c5b74f25ee755917faede864ab774b\n",
            "Successfully built cython-bbox\n",
            "Installing collected packages: cython-bbox\n",
            "Successfully installed cython-bbox-0.1.3\n"
          ]
        }
      ]
    },
    {
      "cell_type": "code",
      "source": [
        "import os\n",
        "os.getcwd()"
      ],
      "metadata": {
        "colab": {
          "base_uri": "https://localhost:8080/",
          "height": 35
        },
        "id": "tJ_IYsEufHXm",
        "outputId": "fc809d83-f03f-4e6c-ab53-8f1f8dc66c6e"
      },
      "execution_count": null,
      "outputs": [
        {
          "output_type": "execute_result",
          "data": {
            "application/vnd.google.colaboratory.intrinsic+json": {
              "type": "string"
            },
            "text/plain": [
              "'/content/drive/.shortcut-targets-by-id/1-cjFAJ4V8fljt8cVEey--yIEu_N0ZZt_/BOAZ_수어프로젝트/AlphaPose/AlphaPose'"
            ]
          },
          "metadata": {},
          "execution_count": 6
        }
      ]
    },
    {
      "cell_type": "code",
      "metadata": {
        "colab": {
          "base_uri": "https://localhost:8080/"
        },
        "id": "wjsXwkvnpQnp",
        "outputId": "d5d47852-8a25-40b9-98c2-d53d87a50a5c"
      },
      "source": [
        "# 10481_12656_frame\n",
        "! python3 scripts/demo_inference.py --cfg configs/halpe_136/resnet/256x192_res50_lr1e-3_2x-regression.yaml --checkpoint pretrained_models/halpe136_fast_res50_256x192.pth --video /content/drive/MyDrive/BOAZ_수어프로젝트/AlphaPose/Alphapose_dain/AlphaPose/KETI_SL_0000015508.mp4 --outdir /content/drive/MyDrive/BOAZ_수어프로젝트/Data/ --vis_fast --form boaz --sp"
      ],
      "execution_count": null,
      "outputs": [
        {
          "output_type": "stream",
          "name": "stdout",
          "text": [
            "Loading YOLO model..\n",
            "Downloading: \"https://download.pytorch.org/models/resnet50-19c8e357.pth\" to /root/.cache/torch/checkpoints/resnet50-19c8e357.pth\n",
            "100% 97.8M/97.8M [00:03<00:00, 29.8MB/s]\n",
            "Loading pose model from pretrained_models/halpe136_fast_res50_256x192.pth...\n",
            " 13% 22/169 [00:05<00:45,  3.22it/s]===========================> This video get 168 frames in total.\n",
            " 99% 168/169 [01:16<00:00,  2.21it/s]\n",
            "RuntimeError('release unlocked lock')\n",
            "An error as above occurs when processing the images, please check it\n",
            "^C\n"
          ]
        }
      ]
    },
    {
      "cell_type": "code",
      "source": [
        "python3 scripts/demo_inference.py --cfg configs/halpe_136/resnet/256x192_res50_lr1e-3_2x-regression.yaml --checkpoint pretrained_models/halpe136_fast_res50_256x192.pth --indir /data/ASL/PHOENIX-2014-T-release-v3/PHOENIX-2014-T/features/fullFrame-210x260px/train/11August_2010_Wednesday_tagesschau-1/ --outdir result/asl_tmp --vis_fast --form boaz --sp"
      ],
      "metadata": {
        "id": "kyX21IG9oI6g"
      },
      "execution_count": null,
      "outputs": []
    },
    {
      "cell_type": "code",
      "source": [
        ""
      ],
      "metadata": {
        "id": "ZwmLXBnsFgaR"
      },
      "execution_count": null,
      "outputs": []
    }
  ]
}